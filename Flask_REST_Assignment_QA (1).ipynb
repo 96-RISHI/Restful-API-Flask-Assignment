{
  "cells": [
    {
      "cell_type": "markdown",
      "id": "c109f448",
      "metadata": {
        "id": "c109f448"
      },
      "source": [
        "# Flask and RESTful API: Assignment Q&A"
      ]
    },
    {
      "cell_type": "markdown",
      "id": "05c566a6",
      "metadata": {
        "id": "05c566a6"
      },
      "source": [
        "**Question 1: What is a RESTful API?**\n",
        "\n",
        "Answer : A RESTful API (Representational State Transfer) is an architectural style for designing networked applications. It uses HTTP methods like GET, POST, PUT, and DELETE to perform operations on resources, which are typically represented as URLs.\n",
        "\n",
        "RESTful APIs are:\n",
        "\n",
        "  - Stateless: Each request contains all the information needed to process it.\n",
        "\n",
        "  - Client-Server: The client and server operate independently.\n",
        "\n",
        "  - Cacheable: Responses can be cached to improve performance.\n",
        "\n",
        "  - Uniform Interface: A standard way of interacting with resources."
      ]
    },
    {
      "cell_type": "code",
      "execution_count": null,
      "id": "54240aa3",
      "metadata": {
        "id": "54240aa3"
      },
      "outputs": [],
      "source": [
        "### Answer:\n",
        "```python\n",
        "# Example for what is a restful api?\n",
        "from flask import Flask, request, jsonify\n",
        "\n",
        "app = Flask(__name__)\n",
        "\n",
        "@app.route(\"/\", methods=[\"GET\"])\n",
        "def home():\n",
        "    return jsonify({\"message\": \"Hello, World!\"})  # **jsonify is used to return JSON responses**\n",
        "\n",
        "if __name__ == \"__main__\":\n",
        "    app.run(debug=True)  # **debug=True** enables live reload\n",
        "```\n",
        "> This is a simple example to demonstrate the concept behind **What is a RESTful API?**.\n"
      ]
    },
    {
      "cell_type": "markdown",
      "id": "e86a1018",
      "metadata": {
        "id": "e86a1018"
      },
      "source": [
        "**Question 2: Explain the concept of API specification.**\n",
        "\n",
        "Answer : An API specification is a detailed, structured document that defines how a client can interact with an API. It outlines:\n",
        "\n",
        "Available endpoints (URLs)\n",
        "\n",
        "  - HTTP methods (GET, POST, etc.)\n",
        "\n",
        "  - Request parameters (query, path, headers)\n",
        "\n",
        "  - Request/Response body formats (usually in JSON)\n",
        "\n",
        "  - Authentication methods\n",
        "\n",
        "  - Response status codes and errors\n",
        "\n",
        "This specification acts like a contract between the API provider and the consumer, ensuring consistency and clarity in communication.\n",
        "\n",
        "**Why it matters:**\n",
        "  - Helps developers understand how to use the API without guessing\n",
        "\n",
        "  - Enables auto-generation of client/server code\n",
        "\n",
        "  - Improves testing and documentation\n",
        "\n",
        "**Tools used for API specifications:**\n",
        "  - OpenAPI (Swagger) – the most popular standard\n",
        "\n",
        "  - RAML, API Blueprint, Postman Collections"
      ]
    },
    {
      "cell_type": "code",
      "execution_count": null,
      "id": "f5267afe",
      "metadata": {
        "id": "f5267afe"
      },
      "outputs": [],
      "source": [
        "### Answer:\n",
        "```python\n",
        "# Example for explain the concept of api specification.\n",
        "from flask import Flask, request, jsonify\n",
        "\n",
        "app = Flask(__name__)\n",
        "\n",
        "@app.route(\"/\", methods=[\"GET\"])\n",
        "def home():\n",
        "    return jsonify({\"message\": \"Hello, World!\"})  # **jsonify is used to return JSON responses**\n",
        "\n",
        "if __name__ == \"__main__\":\n",
        "    app.run(debug=True)  # **debug=True** enables live reload\n",
        "```\n",
        "> This is a simple example to demonstrate the concept behind **Explain the concept of API specification.**.\n"
      ]
    },
    {
      "cell_type": "markdown",
      "id": "e201b480",
      "metadata": {
        "id": "e201b480"
      },
      "source": [
        "**Question 3: What is Flask, and why is it popular for building APIs?**\n",
        "\n",
        "Answer: Flask is a lightweight and flexible web framework written in Python. It is commonly used to build web applications and RESTful APIs quickly and with minimal overhead.\n",
        "\n",
        "Why Flask is popular for APIs:\n",
        "  - Minimalist and flexible: You can build simple to complex APIs with full control.\n",
        "\n",
        "  - Easy to learn and use: Flask has a clean, beginner-friendly syntax.\n",
        "\n",
        "  - Built-in development server and debugging tools.\n",
        "\n",
        "  - Extensions: Such as Flask-SQLAlchemy for databases, Flask-RESTful for API structuring.\n",
        "\n",
        "  - Large community and documentation."
      ]
    },
    {
      "cell_type": "code",
      "execution_count": null,
      "id": "f8642ef4",
      "metadata": {
        "id": "f8642ef4"
      },
      "outputs": [],
      "source": [
        "### Answer:\n",
        "```python\n",
        "# Example for what is flask, and why is it popular for building apis?\n",
        "from flask import Flask, request, jsonify\n",
        "\n",
        "app = Flask(__name__)\n",
        "\n",
        "@app.route(\"/\", methods=[\"GET\"])\n",
        "def home():\n",
        "    return jsonify({\"message\": \"Hello, World!\"})  # **jsonify is used to return JSON responses**\n",
        "\n",
        "if __name__ == \"__main__\":\n",
        "    app.run(debug=True)  # **debug=True** enables live reload\n",
        "```\n",
        "> This is a simple example to demonstrate the concept behind **What is Flask, and why is it popular for building APIs?**.\n"
      ]
    },
    {
      "cell_type": "markdown",
      "id": "0399218c",
      "metadata": {
        "id": "0399218c"
      },
      "source": [
        "**Question 4: What is routing in Flask?**\n",
        "\n",
        "Answer : Routing in Flask refers to the process of mapping URLs to specific Python functions. When a client sends a request to a particular URL, Flask routes the request to the corresponding function defined using the @app.route() decorator.\n",
        "\n",
        "Why Routing is Important:\n",
        "  - It defines what should happen when a specific URL is accessed.\n",
        "\n",
        "  - Helps structure your API or web application with clear, accessible endpoints."
      ]
    },
    {
      "cell_type": "code",
      "execution_count": null,
      "id": "e49d95bc",
      "metadata": {
        "id": "e49d95bc"
      },
      "outputs": [],
      "source": [
        "### Answer:\n",
        "```python\n",
        "# Example for what is routing in flask?\n",
        "from flask import Flask, request, jsonify\n",
        "\n",
        "app = Flask(__name__)\n",
        "\n",
        "@app.route(\"/\", methods=[\"GET\"])\n",
        "def home():\n",
        "    return jsonify({\"message\": \"Hello, World!\"})  # **jsonify is used to return JSON responses**\n",
        "\n",
        "if __name__ == \"__main__\":\n",
        "    app.run(debug=True)  # **debug=True** enables live reload\n",
        "```\n",
        "> This is a simple example to demonstrate the concept behind **What is routing in Flask?**.\n"
      ]
    },
    {
      "cell_type": "markdown",
      "id": "b482fcb4",
      "metadata": {
        "id": "b482fcb4"
      },
      "source": [
        "**Question 5: How do you create a simple Flask application?**\n",
        "\n",
        "Answer : Creating a simple Flask application involves:\n",
        "\n",
        "  - Installing Flask\n",
        "\n",
        "  - Writing a small Python script\n",
        "\n",
        "  - Running the development server\n",
        "\n"
      ]
    },
    {
      "cell_type": "code",
      "execution_count": null,
      "id": "929194bd",
      "metadata": {
        "id": "929194bd"
      },
      "outputs": [],
      "source": [
        "### Answer:\n",
        "```python\n",
        "# Example for how do you create a simple flask application?\n",
        "from flask import Flask, request, jsonify\n",
        "\n",
        "app = Flask(__name__)\n",
        "\n",
        "@app.route(\"/\", methods=[\"GET\"])\n",
        "def home():\n",
        "    return jsonify({\"message\": \"Hello, World!\"})  # **jsonify is used to return JSON responses**\n",
        "\n",
        "if __name__ == \"__main__\":\n",
        "    app.run(debug=True)  # **debug=True** enables live reload\n",
        "```\n",
        "> This is a simple example to demonstrate the concept behind **How do you create a simple Flask application?**.\n"
      ]
    },
    {
      "cell_type": "markdown",
      "id": "9494b68f",
      "metadata": {
        "id": "9494b68f"
      },
      "source": [
        "**Question 6: What are HTTP methods used in RESTful APIs?**\n",
        "\n",
        "Answer :HTTP methods (also called HTTP verbs) define the type of action a client wants to perform on a resource in a RESTful API.\n",
        "\n",
        "| Method     | Purpose                     |\n",
        "| ---------- | --------------------------- |\n",
        "| **GET**    | Retrieve data (read)        |\n",
        "| **POST**   | Create a new resource       |\n",
        "| **PUT**    | Update an existing resource |\n",
        "| **PATCH**  | Partially update a resource |\n",
        "| **DELETE** | Remove a resource           |\n"
      ]
    },
    {
      "cell_type": "code",
      "execution_count": null,
      "id": "cf8be69a",
      "metadata": {
        "id": "cf8be69a"
      },
      "outputs": [],
      "source": [
        "### Answer:\n",
        "```python\n",
        "# Example for what are http methods used in restful apis?\n",
        "from flask import Flask, request, jsonify\n",
        "\n",
        "app = Flask(__name__)\n",
        "\n",
        "@app.route(\"/\", methods=[\"GET\"])\n",
        "def home():\n",
        "    return jsonify({\"message\": \"Hello, World!\"})  # **jsonify is used to return JSON responses**\n",
        "\n",
        "if __name__ == \"__main__\":\n",
        "    app.run(debug=True)  # **debug=True** enables live reload\n",
        "```\n",
        "> This is a simple example to demonstrate the concept behind **What are HTTP methods used in RESTful APIs?**.\n"
      ]
    },
    {
      "cell_type": "markdown",
      "id": "a1da55b9",
      "metadata": {
        "id": "a1da55b9"
      },
      "source": [
        "**Question 7: What is the purpose of the @app.route() decorator in Flask?**\n",
        "\n",
        "Answer : The @app.route() decorator in Flask is used to bind a URL path to a specific function. This function will be executed when a client accesses that route via an HTTP request.\n",
        "\n",
        "Key Purposes:\n",
        "  - Maps a URL to a view function.\n",
        "\n",
        "  - Specifies which HTTP methods the route should respond to.\n",
        "\n",
        "  - Enables Flask to handle routing logic."
      ]
    },
    {
      "cell_type": "code",
      "execution_count": null,
      "id": "e621403f",
      "metadata": {
        "id": "e621403f"
      },
      "outputs": [],
      "source": [
        "### Answer:\n",
        "```python\n",
        "# Example for what is the purpose of the @app.route() decorator in flask?\n",
        "from flask import Flask, request, jsonify\n",
        "\n",
        "app = Flask(__name__)\n",
        "\n",
        "@app.route(\"/\", methods=[\"GET\"])\n",
        "def home():\n",
        "    return jsonify({\"message\": \"Hello, World!\"})  # **jsonify is used to return JSON responses**\n",
        "\n",
        "if __name__ == \"__main__\":\n",
        "    app.run(debug=True)  # **debug=True** enables live reload\n",
        "```\n",
        "> This is a simple example to demonstrate the concept behind **What is the purpose of the @app.route() decorator in Flask?**.\n"
      ]
    },
    {
      "cell_type": "markdown",
      "id": "e21490b4",
      "metadata": {
        "id": "e21490b4"
      },
      "source": [
        "**Question 8: What is the difference between GET and POST HTTP methods?**\n",
        "\n",
        "Answer : GET and POST are the two most commonly used HTTP methods in RESTful APIs, each with distinct purposes.\n",
        "\n",
        "GET Method:\n",
        "  - Used to retrieve data from the server.\n",
        "\n",
        "  - Parameters are passed via the URL (query string).\n",
        "\n",
        "  - Safe and idempotent (does not change data).\n",
        "\n",
        "  - Can be bookmarked and cached.\n",
        "\n",
        "\n",
        "POST Method:\n",
        "  - Used to submit data to the server (e.g., form or JSON).\n",
        "\n",
        "  - Data is sent in the request body.\n",
        "\n",
        "  - Not idempotent (may result in data creation or update).\n",
        "\n",
        "  - Not cacheable."
      ]
    },
    {
      "cell_type": "code",
      "execution_count": null,
      "id": "2af167f2",
      "metadata": {
        "id": "2af167f2"
      },
      "outputs": [],
      "source": [
        "### Answer:\n",
        "```python\n",
        "# Example for what is the difference between get and post http methods?\n",
        "from flask import Flask, request, jsonify\n",
        "\n",
        "app = Flask(__name__)\n",
        "\n",
        "@app.route(\"/\", methods=[\"GET\"])\n",
        "def home():\n",
        "    return jsonify({\"message\": \"Hello, World!\"})  # **jsonify is used to return JSON responses**\n",
        "\n",
        "if __name__ == \"__main__\":\n",
        "    app.run(debug=True)  # **debug=True** enables live reload\n",
        "```\n",
        "> This is a simple example to demonstrate the concept behind **What is the difference between GET and POST HTTP methods?**.\n"
      ]
    },
    {
      "cell_type": "markdown",
      "id": "bea91538",
      "metadata": {
        "id": "bea91538"
      },
      "source": [
        "**Question 9: How do you handle errors in Flask APIs?**\n",
        "\n",
        "Answer: In Flask, you can handle errors by using:\n",
        "\n",
        "  - Built-in HTTP error handlers (like 404, 500)\n",
        "\n",
        "  - Custom error responses using the @app.errorhandler() decorator\n",
        "\n",
        "  - Try-except blocks within route functions for fine-grained control\n",
        "\n",
        "Common use cases:\n",
        "  - Return a meaningful JSON message instead of raw HTML errors\n",
        "\n",
        "  - Catch specific exceptions like KeyError, ValueError, or database errors\n",
        "\n",
        "  - Set proper HTTP status codes (400, 404, 500, etc.)\n",
        "\n"
      ]
    },
    {
      "cell_type": "code",
      "execution_count": null,
      "id": "c04da09a",
      "metadata": {
        "id": "c04da09a"
      },
      "outputs": [],
      "source": [
        "### Answer:\n",
        "```python\n",
        "# Example for how do you handle errors in flask apis?\n",
        "from flask import Flask, request, jsonify\n",
        "\n",
        "app = Flask(__name__)\n",
        "\n",
        "@app.route(\"/\", methods=[\"GET\"])\n",
        "def home():\n",
        "    return jsonify({\"message\": \"Hello, World!\"})  # **jsonify is used to return JSON responses**\n",
        "\n",
        "if __name__ == \"__main__\":\n",
        "    app.run(debug=True)  # **debug=True** enables live reload\n",
        "```\n",
        "> This is a simple example to demonstrate the concept behind **How do you handle errors in Flask APIs?**.\n"
      ]
    },
    {
      "cell_type": "markdown",
      "id": "453cb1d2",
      "metadata": {
        "id": "453cb1d2"
      },
      "source": [
        "**Question 10: How do you connect Flask to a SQL database?**\n",
        "\n",
        "Answer : To connect Flask to a SQL database, the most common and convenient method is using Flask-SQLAlchemy, an ORM (Object Relational Mapper) extension for Flask.\n",
        "\n",
        "Steps to connect Flask with SQL database (e.g., SQLite, MySQL, PostgreSQL):\n",
        "\n",
        "*   Install Flask-SQLAlchemy:  pip install Flask-SQLAlchemy\n",
        "\n",
        "*   Configure the database URI in your Flask app: app.config['SQLALCHEMY_DATABASE_URI'] = 'sqlite:///users.db'  # For SQLite\n",
        "\n",
        "*   Initialize the database with the app context.\n",
        "\n",
        "\n",
        "\n",
        "\n"
      ]
    },
    {
      "cell_type": "code",
      "execution_count": null,
      "id": "783d3712",
      "metadata": {
        "id": "783d3712"
      },
      "outputs": [],
      "source": [
        "### Answer:\n",
        "```python\n",
        "# Example for how do you connect flask to a sql database?\n",
        "from flask import Flask\n",
        "from flask_sqlalchemy import SQLAlchemy\n",
        "\n",
        "app = Flask(__name__)\n",
        "app.config['SQLALCHEMY_DATABASE_URI'] = 'sqlite:///users.db'\n",
        "db = SQLAlchemy(app)\n",
        "\n",
        "# Define a User model\n",
        "class User(db.Model):\n",
        "    id = db.Column(db.Integer, primary_key=True)\n",
        "    name = db.Column(db.String(80), nullable=False)\n",
        "\n",
        "# Create the tables\n",
        "with app.app_context():\n",
        "    db.create_all()\n",
        "\n",
        "```\n",
        "> This is a simple example to demonstrate the concept behind **How do you connect Flask to a SQL database?**.\n"
      ]
    },
    {
      "cell_type": "markdown",
      "id": "8a2f6732",
      "metadata": {
        "id": "8a2f6732"
      },
      "source": [
        "**Question 11: What is the role of Flask-SQLAlchemy?**\n",
        "\n",
        "Answer : Flask-SQLAlchemy is an extension for Flask that adds support for SQLAlchemy, a powerful Object Relational Mapper (ORM) in Python.\n",
        "\n",
        "Key Roles of Flask-SQLAlchemy:\n",
        "  - 1. Object-Relational Mapping (ORM):\n",
        "\n",
        "        - Maps Python classes to database tables\n",
        "\n",
        "        - Lets you use Python objects instead of raw SQL queries\n",
        "\n",
        "  - 2. Simplifies database configuration in Flask apps\n",
        "\n",
        "  - 3. Manages database sessions, migrations, and relationships easily\n",
        "\n",
        "  - 4. Enables querying using Python syntax\n",
        "\n",
        "        - Eg: User.query.filter_by(name='Alice').first()"
      ]
    },
    {
      "cell_type": "code",
      "execution_count": null,
      "id": "d5dd5d25",
      "metadata": {
        "id": "d5dd5d25"
      },
      "outputs": [],
      "source": [
        "### Answer:\n",
        "```python\n",
        "# Example for what is the role of flask-sqlalchemy?\n",
        "ffrom flask import Flask\n",
        "from flask_sqlalchemy import SQLAlchemy\n",
        "\n",
        "app = Flask(__name__)\n",
        "app.config['SQLALCHEMY_DATABASE_URI'] = 'sqlite:///example.db'\n",
        "db = SQLAlchemy(app)\n",
        "\n",
        "# Define a model (table)\n",
        "class User(db.Model):\n",
        "    id = db.Column(db.Integer, primary_key=True)\n",
        "    name = db.Column(db.String(100), nullable=False)\n",
        "\n",
        "# Create tables\n",
        "with app.app_context():\n",
        "    db.create_all()\n",
        "\n",
        "# Insert a new user\n",
        "with app.app_context():\n",
        "    new_user = User(name='Alice')\n",
        "    db.session.add(new_user)\n",
        "    db.session.commit()\n",
        "\n",
        "```\n",
        "> This is a simple example to demonstrate the concept behind **What is the role of Flask-SQLAlchemy?**.\n"
      ]
    },
    {
      "cell_type": "markdown",
      "id": "8a30248a",
      "metadata": {
        "id": "8a30248a"
      },
      "source": [
        "**Question 12: What are Flask blueprints, and how are they useful?**\n",
        "\n",
        "Answer : Flask Blueprints are a way to organize a Flask application into modular components. They allow you to define application parts (routes, templates, static files, etc.) independently and then register them on the main app.\n",
        "\n",
        "Why Use Blueprints:\n",
        "    - Separation of concerns: Organize code by feature or functionality\n",
        "\n",
        "  - Code reusability: Create reusable components (e.g., auth, dashboard)\n",
        "\n",
        "  - Improved maintainability in large applications"
      ]
    },
    {
      "cell_type": "code",
      "execution_count": null,
      "id": "e94e0a5c",
      "metadata": {
        "id": "e94e0a5c"
      },
      "outputs": [],
      "source": [
        "### Answer:\n",
        "```python\n",
        "# Example for what are flask blueprints, and how are they useful?\n",
        "from flask import Blueprint\n",
        "\n",
        "auth_bp = Blueprint('auth', __name__)\n",
        "\n",
        "@auth_bp.route('/login')\n",
        "def login():\n",
        "    return \"Login Page\"\n",
        "\n",
        "@auth_bp.route('/logout')\n",
        "def logout():\n",
        "    return \"Logout Page\"\n",
        "\n",
        "```\n",
        "\n",
        "# Register the blueprint in your main app.py\n",
        "```\n",
        "from flask import Flask\n",
        "from auth import auth_bp  # import blueprint\n",
        "\n",
        "app = Flask(__name__)\n",
        "app.register_blueprint(auth_bp, url_prefix='/auth')  # mount blueprint\n",
        "\n",
        "if __name__ == '__main__':\n",
        "    app.run(debug=True)\n",
        "```\n",
        "\n",
        "> This is a simple example to demonstrate the concept behind **What are Flask blueprints, and how are they useful?**.\n"
      ]
    },
    {
      "cell_type": "markdown",
      "id": "c6199325",
      "metadata": {
        "id": "c6199325"
      },
      "source": [
        "**Question 13: What is the purpose of Flask's request object?**\n",
        "\n",
        "Answer : The request object in Flask is used to access incoming request data sent by the client (browser, API consumer, etc.).\n",
        "\n",
        "It is part of Flask’s global context and provides details about the HTTP request, such as:\n",
        "\n",
        "  - Form data (POST)\n",
        "\n",
        "  - Query parameters (GET)\n",
        "\n",
        "  - Headers\n",
        "\n",
        "  - JSON payload\n",
        "\n",
        "  - HTTP method\n",
        "\n",
        "  - Cookies\n",
        "\n",
        "\n",
        "  | Use Case         | Attribute            |\n",
        "| ---------------- | -------------------- |\n",
        "| Form fields      | `request.form`       |\n",
        "| Query parameters | `request.args`       |\n",
        "| JSON payload     | `request.get_json()` |\n",
        "| HTTP method      | `request.method`     |\n",
        "| File uploads     | `request.files`      |\n"
      ]
    },
    {
      "cell_type": "code",
      "execution_count": null,
      "id": "c12c5c92",
      "metadata": {
        "id": "c12c5c92"
      },
      "outputs": [],
      "source": [
        "### Answer:\n",
        "```python\n",
        "# Example for what is the purpose of flask's request object?\n",
        "from flask import Flask, request, jsonify\n",
        "\n",
        "app = Flask(__name__)\n",
        "\n",
        "@app.route('/submit', methods=['POST'])\n",
        "def submit():\n",
        "    name = request.form.get('name')\n",
        "    return f\"Received name: {name}\"\n",
        "\n",
        "```\n",
        "> This is a simple example to demonstrate the concept behind **What is the purpose of Flask's request object?**.\n"
      ]
    },
    {
      "cell_type": "markdown",
      "id": "fa8a9321",
      "metadata": {
        "id": "fa8a9321"
      },
      "source": [
        "**Question 14: How do you create a RESTful API endpoint using Flask?**\n",
        "\n",
        "Answer : To create a RESTful API endpoint in Flask, you define a route using the @app.route() decorator and specify the allowed HTTP methods (like GET, POST, PUT, DELETE). The function associated with the route performs the action and returns a response — usually in JSON format.\n",
        "\n",
        "Steps to Create a RESTful Endpoint:\n",
        "  - Set up a Flask app\n",
        "\n",
        "  - Use @app.route() with the right HTTP method\n",
        "\n",
        "  - Return a JSON response using jsonify"
      ]
    },
    {
      "cell_type": "code",
      "execution_count": null,
      "id": "59ba2333",
      "metadata": {
        "id": "59ba2333"
      },
      "outputs": [],
      "source": [
        "### Answer:\n",
        "```python\n",
        "# Example for how do you create a restful api endpoint using flask?\n",
        "from flask import Flask, jsonify, request\n",
        "\n",
        "app = Flask(__name__)\n",
        "\n",
        "# In-memory data store (for example purposes)\n",
        "users = {}\n",
        "\n",
        "@app.route('/users/<int:user_id>', methods=['GET', 'POST', 'PUT', 'DELETE'])\n",
        "def user_operations(user_id):\n",
        "    if request.method == 'GET':\n",
        "        return jsonify(users.get(user_id, {'error': 'User not found'}))\n",
        "\n",
        "    elif request.method == 'POST':\n",
        "        users[user_id] = request.json\n",
        "        return jsonify({\"message\": \"User created\", \"user\": users[user_id]}), 201\n",
        "\n",
        "    elif request.method == 'PUT':\n",
        "        users[user_id] = request.json\n",
        "        return jsonify({\"message\": \"User updated\", \"user\": users[user_id]})\n",
        "\n",
        "    elif request.method == 'DELETE':\n",
        "        users.pop(user_id, None)\n",
        "        return jsonify({\"message\": \"User deleted\"})\n",
        "\n",
        "```\n",
        "> This is a simple example to demonstrate the concept behind **How do you create a RESTful API endpoint using Flask?**.\n"
      ]
    },
    {
      "cell_type": "markdown",
      "id": "17780ee2",
      "metadata": {
        "id": "17780ee2"
      },
      "source": [
        "**Question 15: What is the purpose of Flask's jsonify() function?**\n",
        "\n",
        "Answer : The jsonify() function in Flask is used to convert Python dictionaries (or lists) into a JSON response that a client (like a browser or API consumer) can understand.\n",
        "\n",
        "  - It automatically:\n",
        "\n",
        "  - Serializes data to JSON\n",
        "\n",
        "  - Sets the correct MIME type (application/json)\n",
        "\n",
        "  - Adds proper HTTP headers\n",
        "\n",
        "| Feature               | `jsonify()`        | `json.dumps()`          |\n",
        "| ----------------------- | ------------------- | ----------------------- |\n",
        "| Sets content-type       | ✅ Yes              | ❌ No                    |\n",
        "| Handles response object | ✅ Yes (`Response`) | ❌ No                    |\n",
        "| Flask recommended       | ✅ Yes              | ❌ Use only for internal |\n"
      ]
    },
    {
      "cell_type": "code",
      "execution_count": null,
      "id": "547f6260",
      "metadata": {
        "id": "547f6260"
      },
      "outputs": [],
      "source": [
        "### Answer:\n",
        "```python\n",
        "# Example for what is the purpose of flask's jsonify() function?\n",
        "from flask import Flask, jsonify\n",
        "\n",
        "app = Flask(__name__)\n",
        "\n",
        "@app.route('/api/info')\n",
        "def api_info():\n",
        "    data = {\n",
        "        \"framework\": \"Flask\",\n",
        "        \"version\": 2.3,\n",
        "        \"type\": \"web framework\"\n",
        "    }\n",
        "    return jsonify(data)\n",
        "\n",
        "```\n",
        "> This is a simple example to demonstrate the concept behind **What is the purpose of Flask's jsonify() function?**.\n"
      ]
    },
    {
      "cell_type": "markdown",
      "id": "47715824",
      "metadata": {
        "id": "47715824"
      },
      "source": [
        "**Question 16: Explain Flask’s url_for() function.**\n",
        "\n",
        "Answer: Flask’s url_for() function is used to dynamically generate URLs for routes based on the function name (not hardcoded strings). This helps avoid breaking links when URL paths change.\n",
        "\n",
        "Why use url_for()?\n",
        "  - Makes your code DRY (Don't Repeat Yourself)\n",
        "\n",
        "  - Avoids hardcoding URLs\n",
        "\n",
        "  - Useful in templates and redirects\n",
        "\n",
        "  - Automatically handles query parameters\n",
        "\n"
      ]
    },
    {
      "cell_type": "code",
      "execution_count": null,
      "id": "ecd774e8",
      "metadata": {
        "id": "ecd774e8"
      },
      "outputs": [],
      "source": [
        "### Answer:\n",
        "```python\n",
        "# Example for explain flask’s url_for() function.\n",
        "from flask import Flask, url_for\n",
        "\n",
        "app = Flask(__name__)\n",
        "\n",
        "@app.route('/')\n",
        "def home():\n",
        "    return \"Home Page\"\n",
        "\n",
        "@app.route('/profile/<username>')\n",
        "def profile(username):\n",
        "    return f\"Profile: {username}\"\n",
        "\n",
        "@app.route('/link')\n",
        "def show_link():\n",
        "    return url_for('profile', username='ravi')\n",
        "\n",
        "```\n",
        "> This is a simple example to demonstrate the concept behind **Explain Flask’s url_for() function.**.\n"
      ]
    },
    {
      "cell_type": "markdown",
      "id": "cb16f2b2",
      "metadata": {
        "id": "cb16f2b2"
      },
      "source": [
        "**Question 17: How does Flask handle static files (CSS, JavaScript, etc.)?**\n",
        "\n",
        "Answer : Flask automatically serves static files like CSS, JavaScript, and images from a special directory called static/.\n",
        "\n",
        "Default Setup:\n",
        "  - Place your static files (e.g., style.css, app.js, logo.png) in a folder named static/ in your Flask project directory.\n",
        "\n",
        "  project/\n",
        "│\n",
        "├── app.py\n",
        "├── static/\n",
        "│   ├── style.css\n",
        "│   └── script.js\n"
      ]
    },
    {
      "cell_type": "code",
      "execution_count": null,
      "id": "5a60b3f6",
      "metadata": {
        "id": "5a60b3f6"
      },
      "outputs": [],
      "source": [
        "### Answer:\n",
        "```python\n",
        "# Accessing Static Files in HTML Templates\n",
        "<!-- template.html -->\n",
        "<link rel=\"stylesheet\" href=\"{{ url_for('static', filename='style.css') }}\">\n",
        "<script src=\"{{ url_for('static', filename='script.js') }}\"></script>\n",
        "\n",
        "```\n",
        "\n"
      ]
    },
    {
      "cell_type": "markdown",
      "id": "61dd2bd5",
      "metadata": {
        "id": "61dd2bd5"
      },
      "source": [
        "**Question 18: What is an API specification, and how does it help in building a Flask API?**\n",
        "\n",
        "Answer : An API specification is a detailed blueprint that describes how an API works — including its endpoints, request formats, parameters, and response types. It ensures that developers understand how to interact with the API, both when building and consuming it.\n",
        "\n",
        "Key Parts of an API Specification:\n",
        "  - Endpoints and their paths (e.g., /users/{id})\n",
        "\n",
        "  - HTTP methods used (GET, POST, PUT, DELETE)\n",
        "\n",
        "  - Input data format (query, path parameters, headers, JSON body)\n",
        "\n",
        "  - Response structure and status codes\n",
        "\n",
        "  - Authentication and error handling\n",
        "\n",
        "How It Helps Flask Development:\n",
        "  - Acts as a contract for both backend and frontend teams.\n",
        "\n",
        "  - Auto-generates documentation (e.g., Swagger UI).\n",
        "\n",
        "  - Helps in testing and mocking endpoints.\n",
        "\n",
        "  - Enables tools to validate requests/responses."
      ]
    },
    {
      "cell_type": "code",
      "execution_count": null,
      "id": "76708542",
      "metadata": {
        "id": "76708542"
      },
      "outputs": [],
      "source": [
        "### Answer:\n",
        "```python\n",
        "# Example for what is an api specification, and how does it help in building a flask api?\n",
        "from flask import Flask, jsonify, request\n",
        "from flasgger import Swagger\n",
        "\n",
        "app = Flask(__name__)\n",
        "swagger = Swagger(app)\n",
        "\n",
        "@app.route('/user/<int:user_id>', methods=['GET'])\n",
        "def get_user(user_id):\n",
        "    \"\"\"\n",
        "    Get user by ID\n",
        "    ---\n",
        "    parameters:\n",
        "      - name: user_id\n",
        "        in: path\n",
        "        type: integer\n",
        "        required: true\n",
        "        description: The ID of the user\n",
        "    responses:\n",
        "      200:\n",
        "        description: A user object\n",
        "        examples:\n",
        "          application/json: { \"id\": 1, \"name\": \"Alice\" }\n",
        "    \"\"\"\n",
        "    user = {\"id\": user_id, \"name\": \"Alice\"}\n",
        "    return jsonify(user)\n",
        "\n",
        "if __name__ == '__main__':\n",
        "    app.run(debug=True)\n",
        "\n",
        "```\n",
        "> This is a simple example to demonstrate the concept behind **What is an API specification, and how does it help in building a Flask API?**.\n"
      ]
    },
    {
      "cell_type": "markdown",
      "id": "01441e4f",
      "metadata": {
        "id": "01441e4f"
      },
      "source": [
        "**Question 19: What are HTTP status codes, and why are they important in a Flask API?**\n",
        "\n",
        "Answer : HTTP status codes are three-digit numbers returned by a server to indicate the result of a client's request. They are crucial in RESTful Flask APIs to help clients understand what happened—whether a request was successful, failed, or resulted in an error.\n",
        "\n",
        "Why they are important:\n",
        "  - Communicate the outcome of the request clearly.\n",
        "\n",
        "  - Allow clients (frontend, apps, other APIs) to handle responses appropriately.\n",
        "\n",
        "  - Enable better debugging, logging, and error reporting.\n",
        "\n",
        "| Code | Meaning               | Use Case                        |\n",
        "| ---- | --------------------- | ------------------------------- |\n",
        "| 200  | OK                    | Successful GET/PUT              |\n",
        "| 201  | Created               | POST request successful         |\n",
        "| 204  | No Content            | Successful request, no response |\n",
        "| 400  | Bad Request           | Invalid client input            |\n",
        "| 401  | Unauthorized          | Missing/invalid credentials     |\n",
        "| 403  | Forbidden             | Authenticated but no access     |\n",
        "| 404  | Not Found             | Resource doesn't exist          |\n",
        "| 500  | Internal Server Error | Server-side issue               |\n"
      ]
    },
    {
      "cell_type": "code",
      "execution_count": null,
      "id": "cec79bc9",
      "metadata": {
        "id": "cec79bc9"
      },
      "outputs": [],
      "source": [
        "### Answer:\n",
        "```python\n",
        "# Example for what are http status codes, and why are they important in a flask api?\n",
        "from flask import Flask, jsonify, request\n",
        "\n",
        "app = Flask(__name__)\n",
        "\n",
        "@app.route('/login', methods=['POST'])\n",
        "def login():\n",
        "    data = request.get_json()\n",
        "    if not data or data.get('username') != 'admin':\n",
        "        return jsonify({'error': 'Unauthorized'}), 401\n",
        "    return jsonify({'message': 'Login successful'}), 200\n",
        "\n",
        "```\n",
        "> This is a simple example to demonstrate the concept behind **What are HTTP status codes, and why are they important in a Flask API?**.\n"
      ]
    },
    {
      "cell_type": "markdown",
      "id": "c56efec5",
      "metadata": {
        "id": "c56efec5"
      },
      "source": [
        "**Question 20: How do you handle POST requests in Flask?**\n",
        "\n",
        "Answer : To handle POST requests in Flask, you:\n",
        "\n",
        "  - Create a route with methods=['POST']\n",
        "\n",
        "  - Use the request object to access data sent by the client (form, JSON, etc.)\n",
        "\n",
        "  - Return a response using jsonify() or plain text\n",
        "\n",
        "ypes of POST data:\n",
        "  - Form data (request.form)\n",
        "\n",
        "  - JSON data (request.get_json())\n"
      ]
    },
    {
      "cell_type": "code",
      "execution_count": null,
      "id": "371d0359",
      "metadata": {
        "id": "371d0359"
      },
      "outputs": [],
      "source": [
        "### Answer:\n",
        "```python\n",
        "# Example for how do you handle post requests in flask?\n",
        "from flask import Flask, request, jsonify\n",
        "\n",
        "app = Flask(__name__)\n",
        "\n",
        "@app.route('/submit', methods=['POST'])\n",
        "def submit():\n",
        "    data = request.get_json()  # Get JSON from request body\n",
        "    name = data.get('name')\n",
        "    age = data.get('age')\n",
        "    return jsonify({\n",
        "        \"message\": \"Data received\",\n",
        "        \"name\": name,\n",
        "        \"age\": age\n",
        "    }), 201\n",
        "\n",
        "```\n",
        "> This is a simple example to demonstrate the concept behind **How do you handle POST requests in Flask?**.\n"
      ]
    },
    {
      "cell_type": "markdown",
      "id": "4b32d68b",
      "metadata": {
        "id": "4b32d68b"
      },
      "source": [
        "**Question 21: How would you secure a Flask API?**\n",
        "\n",
        "Answer : Securing a Flask API is essential to prevent unauthorized access, data breaches, and misuse. A secure API ensures that only trusted users and applications can access or modify sensitive data.\n",
        "\n",
        "Best Practices to Secure a Flask API:\n",
        "  - 1. Use Authentication & Authorization\n",
        "\n",
        "          - API keys\n",
        "\n",
        "          - JWT (JSON Web Tokens)\n",
        "\n",
        "          - OAuth2\n",
        "  - 2. HTTPS Only\n",
        "\n",
        "          - Always serve your API over HTTPS to encrypt traffic\n",
        "\n",
        "  - 3. Input Validation\n",
        "\n",
        "          - Validate all data from request.args, request.form, and request.get_json() to avoid injection attacks\n",
        "\n",
        "  - 4. Rate Limiting\n",
        "\n",
        "          - Use Flask-Limiter to prevent abuse by restricting the number of requests per user/IP\n",
        "\n",
        "  - 5. Error Handling\n",
        "\n",
        "          - Avoid exposing internal errors; return generic messages\n",
        "  - 6. Secure Headers\n",
        "\n",
        "          - Use libraries like Flask-Talisman to set security headers (e.g., CSP, X-Content-Type-Options)\n",
        "\n",
        "  - 7. CORS Protection\n",
        "\n",
        "          - Use Flask-CORS to control which domains can access your API\n",
        "\n"
      ]
    },
    {
      "cell_type": "code",
      "execution_count": null,
      "id": "cfd3633f",
      "metadata": {
        "id": "cfd3633f"
      },
      "outputs": [],
      "source": [
        "### Answer:\n",
        "```python\n",
        "# Example for how would you secure a flask api?\n",
        "from flask import Flask, request, jsonify\n",
        "import jwt\n",
        "import datetime\n",
        "\n",
        "app = Flask(__name__)\n",
        "app.config['SECRET_KEY'] = 'your_secret_key'\n",
        "\n",
        "# Generate token\n",
        "@app.route('/login', methods=['POST'])\n",
        "def login():\n",
        "    data = request.get_json()\n",
        "    if data['username'] == 'admin' and data['password'] == '123':\n",
        "        token = jwt.encode({\n",
        "            'user': data['username'],\n",
        "            'exp': datetime.datetime.utcnow() + datetime.timedelta(hours=1)\n",
        "        }, app.config['SECRET_KEY'], algorithm='HS256')\n",
        "        return jsonify({'token': token})\n",
        "    return jsonify({'error': 'Invalid credentials'}), 401\n",
        "\n",
        "# Protected route\n",
        "@app.route('/dashboard')\n",
        "def dashboard():\n",
        "    token = request.headers.get('Authorization')\n",
        "    try:\n",
        "        jwt.decode(token, app.config['SECRET_KEY'], algorithms=['HS256'])\n",
        "        return jsonify({'message': 'Welcome to the dashboard!'})\n",
        "    except:\n",
        "        return jsonify({'error': 'Token is invalid or expired'}), 403\n",
        "\n",
        "```\n",
        "> This is a simple example to demonstrate the concept behind **How would you secure a Flask API?**.\n"
      ]
    },
    {
      "cell_type": "markdown",
      "id": "5f5703dc",
      "metadata": {
        "id": "5f5703dc"
      },
      "source": [
        "**Question 22: What is the significance of the Flask-RESTful extension?**\n",
        "\n",
        "Answer : Flask-RESTful is an extension for Flask that simplifies the development of RESTful APIs. It provides a cleaner, class-based structure for creating API endpoints and comes with built-in tools for request parsing, response formatting, and error handling.\n",
        "\n",
        "Key Benefits of Flask-RESTful:\n",
        "  - Class-based views using Resource classes\n",
        "\n",
        "  - Automatic method routing (GET, POST, PUT, DELETE)\n",
        "\n",
        "  - Integrated request parsing with reqparse\n",
        "\n",
        "  - Built-in HTTP status code support\n",
        "\n",
        "  - Cleaner and scalable code for large APIs"
      ]
    },
    {
      "cell_type": "code",
      "execution_count": null,
      "id": "2ff3a213",
      "metadata": {
        "id": "2ff3a213"
      },
      "outputs": [],
      "source": [
        "### Answer:\n",
        "```python\n",
        "# Example for what is the significance of the flask-restful extension?\n",
        "from flask import Flask\n",
        "from flask_restful import Api, Resource, reqparse\n",
        "\n",
        "app = Flask(__name__)\n",
        "api = Api(app)\n",
        "\n",
        "# Define a parser for input validation\n",
        "parser = reqparse.RequestParser()\n",
        "parser.add_argument('name', type=str, required=True, help='Name is required')\n",
        "\n",
        "# Create a resource\n",
        "class Hello(Resource):\n",
        "    def get(self):\n",
        "        return {'message': 'Hello, Flask-RESTful!'}\n",
        "\n",
        "class Greet(Resource):\n",
        "    def post(self):\n",
        "        args = parser.parse_args()\n",
        "        return {'message': f\"Hello, {args['name']}!\"}, 201\n",
        "\n",
        "# Add resources to the API\n",
        "api.add_resource(Hello, '/')\n",
        "api.add_resource(Greet, '/greet')\n",
        "\n",
        "if __name__ == '__main__':\n",
        "    app.run(debug=True)\n",
        "\n",
        "```\n",
        "> This is a simple example to demonstrate the concept behind **What is the significance of the Flask-RESTful extension?**.\n"
      ]
    },
    {
      "cell_type": "markdown",
      "id": "7037dc0f",
      "metadata": {
        "id": "7037dc0f"
      },
      "source": [
        "**Question 23: What is the role of Flask’s session object?**\n",
        "\n",
        "Answer : The session object in Flask is used to store data across requests for a specific user. It acts like a secure, temporary dictionary that allows you to persist information (like login state or user preferences) across pages.\n",
        "\n",
        "Key Features of session:\n",
        "  - Stores data on the server side, but keeps a secure session ID in the user's browser via a cookie.\n",
        "\n",
        "  - Flask uses signed cookies to prevent tampering.\n",
        "\n",
        "  - Values are encrypted using the SECRET_KEY for security.\n",
        "\n",
        "  - Sessions expire when the browser closes or after a timeout.\n",
        "\n",
        "Common use cases:\n",
        "  - User login and logout\n",
        "\n",
        "  - Shopping cart functionality\n",
        "\n",
        "  - Storing user preferences (theme, language)"
      ]
    },
    {
      "cell_type": "code",
      "execution_count": null,
      "id": "c2315d00",
      "metadata": {
        "id": "c2315d00"
      },
      "outputs": [],
      "source": [
        "### Answer:\n",
        "```python\n",
        "# Example for what is the role of flask’s session object?\n",
        "from flask import Flask, session, redirect, url_for, request\n",
        "\n",
        "app = Flask(__name__)\n",
        "app.secret_key = 'super_secret_key'  # Required to use sessions\n",
        "\n",
        "@app.route('/')\n",
        "def index():\n",
        "    if 'username' in session:\n",
        "        return f\"Welcome, {session['username']}!\"\n",
        "    return 'You are not logged in.'\n",
        "\n",
        "@app.route('/login', methods=['POST'])\n",
        "def login():\n",
        "    username = request.form['username']\n",
        "    session['username'] = username  # Save to session\n",
        "    return redirect(url_for('index'))\n",
        "\n",
        "@app.route('/logout')\n",
        "def logout():\n",
        "    session.pop('username', None)  # Remove from session\n",
        "    return redirect(url_for('index'))\n",
        "\n",
        "```\n",
        "> This is a simple example to demonstrate the concept behind **What is the role of Flask’s session object?**.\n"
      ]
    },
    {
      "cell_type": "markdown",
      "source": [
        "# Practical Questions"
      ],
      "metadata": {
        "id": "2pHDTJMZ1wNY"
      },
      "id": "2pHDTJMZ1wNY"
    },
    {
      "cell_type": "markdown",
      "source": [
        "**1. How do you create a basic Flask application?**"
      ],
      "metadata": {
        "id": "nBfHgiBR1zr3"
      },
      "id": "nBfHgiBR1zr3"
    },
    {
      "cell_type": "code",
      "source": [
        "from flask import Flask\n",
        "\n",
        "# Initialize the Flask application\n",
        "app = Flask(__name__)\n",
        "\n",
        "# Define the home route\n",
        "@app.route('/')\n",
        "def home():\n",
        "    return \"Hello, Flask!\"\n",
        "\n",
        "# Run the application\n",
        "if __name__ == '__main__':\n",
        "    app.run(debug=True)\n"
      ],
      "metadata": {
        "id": "f_DnWoPj2ho4"
      },
      "id": "f_DnWoPj2ho4",
      "execution_count": null,
      "outputs": []
    },
    {
      "cell_type": "markdown",
      "source": [
        "2. How do you serve static files like images or CSS in Flask?"
      ],
      "metadata": {
        "id": "UQ-VAE4C2Jgt"
      },
      "id": "UQ-VAE4C2Jgt"
    },
    {
      "cell_type": "code",
      "source": [
        "from flask import Flask, render_template\n",
        "\n",
        "app = Flask(__name__)\n",
        "\n",
        "@app.route('/')\n",
        "def index():\n",
        "    return render_template('index.html')\n",
        "\n",
        "if __name__ == '__main__':\n",
        "    app.run(debug=True)"
      ],
      "metadata": {
        "id": "bxs2ERzE2HyU"
      },
      "id": "bxs2ERzE2HyU",
      "execution_count": null,
      "outputs": []
    },
    {
      "cell_type": "markdown",
      "source": [
        "3. How do you define different routes with different HTTP methods in Flask?"
      ],
      "metadata": {
        "id": "5I6Sx7sa2z51"
      },
      "id": "5I6Sx7sa2z51"
    },
    {
      "cell_type": "code",
      "source": [
        "from flask import Flask, request, jsonify\n",
        "\n",
        "app = Flask(__name__)\n",
        "\n",
        "@app.route('/item', methods=['GET', 'POST', 'PUT', 'DELETE'])\n",
        "def item():\n",
        "    if request.method == 'GET':\n",
        "        return jsonify({'message': 'You used GET method'})\n",
        "\n",
        "    elif request.method == 'POST':\n",
        "        data = request.get_json()\n",
        "        return jsonify({'message': 'Data received via POST', 'data': data}), 201\n",
        "\n",
        "    elif request.method == 'PUT':\n",
        "        return jsonify({'message': 'You used PUT method'})\n",
        "\n",
        "    elif request.method == 'DELETE':\n",
        "        return jsonify({'message': 'You used DELETE method'})\n",
        "\n",
        "if __name__ == '__main__':\n",
        "    app.run(debug=True)\n"
      ],
      "metadata": {
        "id": "9wNiOKGL28dK"
      },
      "id": "9wNiOKGL28dK",
      "execution_count": null,
      "outputs": []
    },
    {
      "cell_type": "markdown",
      "source": [
        "4. How do you render HTML templates in Flask?"
      ],
      "metadata": {
        "id": "dDMYtrm33JtG"
      },
      "id": "dDMYtrm33JtG"
    },
    {
      "cell_type": "code",
      "source": [
        "from flask import Flask, render_template\n",
        "\n",
        "app = Flask(__name__)\n",
        "\n",
        "@app.route('/')\n",
        "def home():\n",
        "    return render_template('index.html')  # Renders the HTML page\n",
        "\n",
        "if __name__ == '__main__':\n",
        "    app.run(debug=True)\n"
      ],
      "metadata": {
        "id": "P5q1np853KM4"
      },
      "id": "P5q1np853KM4",
      "execution_count": null,
      "outputs": []
    },
    {
      "cell_type": "markdown",
      "source": [
        "5. How can you generate URLs for routes in Flask using url_for?"
      ],
      "metadata": {
        "id": "yQyWQK9u3PjM"
      },
      "id": "yQyWQK9u3PjM"
    },
    {
      "cell_type": "code",
      "source": [
        "from flask import Flask, url_for\n",
        "\n",
        "app = Flask(__name__)\n",
        "\n",
        "@app.route('/')\n",
        "def home():\n",
        "    return \"Home Page\"\n",
        "\n",
        "@app.route('/profile/<username>')\n",
        "def profile(username):\n",
        "    return f\"Profile of {username}\"\n",
        "\n",
        "@app.route('/link')\n",
        "def link():\n",
        "    return f\"Go to profile: {url_for('profile', username='ravi')}\"\n"
      ],
      "metadata": {
        "id": "78Yst_oX3XtB"
      },
      "id": "78Yst_oX3XtB",
      "execution_count": null,
      "outputs": []
    },
    {
      "cell_type": "markdown",
      "source": [
        "6. How do you handle forms in Flask?"
      ],
      "metadata": {
        "id": "PF3JWuRy3Y1B"
      },
      "id": "PF3JWuRy3Y1B"
    },
    {
      "cell_type": "code",
      "source": [
        "from flask import Flask, render_template, request\n",
        "\n",
        "app = Flask(__name__)\n",
        "\n",
        "@app.route('/form', methods=['GET', 'POST'])\n",
        "def form():\n",
        "    if request.method == 'POST':\n",
        "        name = request.form.get('name')\n",
        "        return f\"Hello, {name}!\"\n",
        "    return render_template('form.html')\n",
        "\n",
        "if __name__ == '__main__':\n",
        "    app.run(debug=True)\n"
      ],
      "metadata": {
        "id": "ygseNDiE3kWk"
      },
      "id": "ygseNDiE3kWk",
      "execution_count": null,
      "outputs": []
    },
    {
      "cell_type": "markdown",
      "source": [
        "7. How can you validate form data in Flask?"
      ],
      "metadata": {
        "id": "LFGglnJ73lyI"
      },
      "id": "LFGglnJ73lyI"
    },
    {
      "cell_type": "code",
      "source": [
        "from flask import Flask, request, render_template\n",
        "\n",
        "app = Flask(__name__)\n",
        "\n",
        "@app.route('/register', methods=['GET', 'POST'])\n",
        "def register():\n",
        "    error = \"\"\n",
        "    if request.method == 'POST':\n",
        "        name = request.form.get('name')\n",
        "        email = request.form.get('email')\n",
        "        if not name or not email:\n",
        "            error = \"All fields are required!\"\n",
        "        else:\n",
        "            return f\"Registered {name} with email {email}\"\n",
        "    return render_template('register.html', error=error)\n"
      ],
      "metadata": {
        "id": "yVrY5rxx3qea"
      },
      "id": "yVrY5rxx3qea",
      "execution_count": null,
      "outputs": []
    },
    {
      "cell_type": "markdown",
      "source": [
        "8. How do you manage sessions in Flask?"
      ],
      "metadata": {
        "id": "mN5EZnfh3ys0"
      },
      "id": "mN5EZnfh3ys0"
    },
    {
      "cell_type": "code",
      "source": [
        "from flask import Flask, session, redirect, url_for, request\n",
        "\n",
        "app = Flask(__name__)\n",
        "app.secret_key = 'super_secret_key'  # Required to use sessions\n",
        "\n",
        "@app.route('/')\n",
        "def index():\n",
        "    if 'username' in session:\n",
        "        return f\"Welcome, {session['username']}!\"\n",
        "    return 'You are not logged in.'\n",
        "\n",
        "@app.route('/login', methods=['GET', 'POST'])\n",
        "def login():\n",
        "    if request.method == 'POST':\n",
        "        session['username'] = request.form['username']  # Save username to session\n",
        "        return redirect(url_for('index'))\n",
        "    return '''\n",
        "        <form method=\"POST\">\n",
        "            <input name=\"username\" placeholder=\"Enter Username\">\n",
        "            <input type=\"submit\" value=\"Login\">\n",
        "        </form>\n",
        "    '''\n",
        "\n",
        "@app.route('/logout')\n",
        "def logout():\n",
        "    session.pop('username', None)  # Clear session\n",
        "    return redirect(url_for('index'))\n",
        "\n",
        "if __name__ == '__main__':\n",
        "    app.run(debug=True)\n"
      ],
      "metadata": {
        "id": "BfTRG2E_38PY"
      },
      "id": "BfTRG2E_38PY",
      "execution_count": null,
      "outputs": []
    },
    {
      "cell_type": "markdown",
      "source": [
        "9. How do you redirect to a different route in Flask?"
      ],
      "metadata": {
        "id": "PT0Uj2f_4Bv3"
      },
      "id": "PT0Uj2f_4Bv3"
    },
    {
      "cell_type": "code",
      "source": [
        "from flask import Flask, redirect, url_for, request\n",
        "\n",
        "app = Flask(__name__)\n",
        "\n",
        "@app.route('/')\n",
        "def home():\n",
        "    return \"Welcome to the Home Page!\"\n",
        "\n",
        "@app.route('/login', methods=['GET', 'POST'])\n",
        "def login():\n",
        "    if request.method == 'POST':\n",
        "        username = request.form.get('username')\n",
        "        if username == 'admin':\n",
        "            return redirect(url_for('dashboard'))\n",
        "        return redirect(url_for('home'))\n",
        "    return '''\n",
        "        <form method=\"POST\">\n",
        "            <input name=\"username\" placeholder=\"Enter username\">\n",
        "            <input type=\"submit\" value=\"Login\">\n",
        "        </form>\n",
        "    '''\n",
        "\n",
        "@app.route('/dashboard')\n",
        "def dashboard():\n",
        "    return \"Welcome to the Dashboard!\"\n",
        "\n",
        "if __name__ == '__main__':\n",
        "    app.run(debug=True)\n"
      ],
      "metadata": {
        "id": "oXxdJYWK4Kv_"
      },
      "id": "oXxdJYWK4Kv_",
      "execution_count": null,
      "outputs": []
    },
    {
      "cell_type": "markdown",
      "source": [
        "10. How do you handle errors in Flask (e.g., 404)?"
      ],
      "metadata": {
        "id": "6hOhmQJz4OFR"
      },
      "id": "6hOhmQJz4OFR"
    },
    {
      "cell_type": "code",
      "source": [
        "from flask import Flask, jsonify\n",
        "\n",
        "app = Flask(__name__)\n",
        "\n",
        "@app.route('/')\n",
        "def index():\n",
        "    return \"Home Page\"\n",
        "\n",
        "# Custom 404 error handler\n",
        "@app.errorhandler(404)\n",
        "def not_found(e):\n",
        "    return jsonify({'error': 'Page not found'}), 404\n",
        "\n",
        "# Custom 500 error handler\n",
        "@app.errorhandler(500)\n",
        "def server_error(e):\n",
        "    return jsonify({'error': 'Internal server error'}), 500\n",
        "\n",
        "if __name__ == '__main__':\n",
        "    app.run(debug=True)\n"
      ],
      "metadata": {
        "id": "ITTTE5v14S2q"
      },
      "id": "ITTTE5v14S2q",
      "execution_count": null,
      "outputs": []
    },
    {
      "cell_type": "markdown",
      "source": [
        "11. How do you structure a Flask app using Blueprints?/\n"
      ],
      "metadata": {
        "id": "lQcxK5OC4ZWV"
      },
      "id": "lQcxK5OC4ZWV"
    },
    {
      "cell_type": "code",
      "source": [
        "from flask import Blueprint\n",
        "\n",
        "auth_bp = Blueprint('auth', __name__)\n",
        "\n",
        "@auth_bp.route('/login')\n",
        "def login():\n",
        "    return \"Login Page\"\n",
        "\n",
        "@auth_bp.route('/logout')\n",
        "def logout():\n",
        "    return \"Logout Page\"\n"
      ],
      "metadata": {
        "id": "o449TTWs4fMp"
      },
      "id": "o449TTWs4fMp",
      "execution_count": null,
      "outputs": []
    },
    {
      "cell_type": "markdown",
      "source": [
        "12. How do you define a custom Jinja filter in Flask?"
      ],
      "metadata": {
        "id": "eupZcpc_4kPA"
      },
      "id": "eupZcpc_4kPA"
    },
    {
      "cell_type": "code",
      "source": [
        "from flask import Flask, render_template\n",
        "\n",
        "app = Flask(__name__)\n",
        "\n",
        "# Custom filter to reverse a string\n",
        "def reverse_string(s):\n",
        "    return s[::-1]\n",
        "\n",
        "# Register the filter with Jinja\n",
        "app.jinja_env.filters['reverse'] = reverse_string\n",
        "\n",
        "@app.route('/')\n",
        "def home():\n",
        "    return render_template('index.html', name='Flask')\n",
        "\n",
        "if __name__ == '__main__':\n",
        "    app.run(debug=True)\n"
      ],
      "metadata": {
        "id": "NixzGytB4pMJ"
      },
      "id": "NixzGytB4pMJ",
      "execution_count": null,
      "outputs": []
    },
    {
      "cell_type": "markdown",
      "source": [
        "13 How can you redirect with query parameters in Flask?"
      ],
      "metadata": {
        "id": "ZhxwbWKj4uts"
      },
      "id": "ZhxwbWKj4uts"
    },
    {
      "cell_type": "code",
      "source": [
        "from flask import Flask, redirect, url_for, request\n",
        "\n",
        "app = Flask(__name__)\n",
        "\n",
        "@app.route('/')\n",
        "def home():\n",
        "    # Read query parameter from URL\n",
        "    message = request.args.get('msg', 'Welcome!')\n",
        "    return f\"Message: {message}\"\n",
        "\n",
        "@app.route('/go')\n",
        "def go():\n",
        "    # Redirect to home with a query parameter\n",
        "    return redirect(url_for('home', msg='Hello from /go'))\n",
        "\n",
        "if __name__ == '__main__':\n",
        "    app.run(debug=True)\n"
      ],
      "metadata": {
        "id": "jbMJeb3f418Z"
      },
      "id": "jbMJeb3f418Z",
      "execution_count": null,
      "outputs": []
    },
    {
      "cell_type": "markdown",
      "source": [
        "14. How do you return JSON responses in Flask?"
      ],
      "metadata": {
        "id": "K96XWpkl47lh"
      },
      "id": "K96XWpkl47lh"
    },
    {
      "cell_type": "code",
      "source": [
        "from flask import Flask, jsonify\n",
        "\n",
        "app = Flask(__name__)\n",
        "\n",
        "@app.route('/api/user')\n",
        "def get_user():\n",
        "    user = {\n",
        "        'id': 1,\n",
        "        'name': 'Alice',\n",
        "        'email': 'alice@example.com'\n",
        "    }\n",
        "    return jsonify(user)\n",
        "\n",
        "if __name__ == '__main__':\n",
        "    app.run(debug=True)\n"
      ],
      "metadata": {
        "id": "7_QfcBte5AMR"
      },
      "id": "7_QfcBte5AMR",
      "execution_count": null,
      "outputs": []
    },
    {
      "cell_type": "markdown",
      "source": [
        "15. How do you capture URL parameters in Flask?"
      ],
      "metadata": {
        "id": "ko8PzIjM5Auj"
      },
      "id": "ko8PzIjM5Auj"
    },
    {
      "cell_type": "code",
      "source": [
        "from flask import Flask\n",
        "\n",
        "app = Flask(__name__)\n",
        "\n",
        "@app.route('/user/<username>')\n",
        "def show_user_profile(username):\n",
        "    return f\"User: {username}\"\n",
        "\n",
        "if __name__ == '__main__':\n",
        "    app.run(debug=True)\n"
      ],
      "metadata": {
        "id": "gvteilfD5Jlv"
      },
      "id": "gvteilfD5Jlv",
      "execution_count": null,
      "outputs": []
    }
  ],
  "metadata": {
    "colab": {
      "provenance": []
    },
    "language_info": {
      "name": "python"
    },
    "kernelspec": {
      "name": "python3",
      "display_name": "Python 3"
    }
  },
  "nbformat": 4,
  "nbformat_minor": 5
}